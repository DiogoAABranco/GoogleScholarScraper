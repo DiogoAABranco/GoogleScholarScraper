{
 "cells": [
  {
   "cell_type": "code",
   "execution_count": null,
   "id": "bbea0d20",
   "metadata": {},
   "outputs": [],
   "source": [
    "#pip install beautifulsoup4 requests tqdm pandas\n"
   ]
  },
  {
   "cell_type": "code",
   "execution_count": null,
   "id": "2e035373",
   "metadata": {},
   "outputs": [],
   "source": [
    "import pandas as pd\n",
    "from bs4 import BeautifulSoup\n",
    "import urllib\n",
    "import requests\n",
    "from tqdm import tqdm\n",
    "from IPython.display import display, HTML\n",
    "from datetime import datetime\n",
    "import os, pathlib\n",
    "from os.path import exists"
   ]
  },
  {
   "cell_type": "code",
   "execution_count": null,
   "id": "fdb14f00",
   "metadata": {},
   "outputs": [],
   "source": [
    "total_of_pages_to_search=200\n",
    "\n",
    "date=str(datetime.now()).split(' ')[0]\n",
    "main_dir=f'_Scrap_{date}'\n",
    "pathlib.Path(main_dir).mkdir(parents=True, exist_ok=True)\n"
   ]
  },
  {
   "cell_type": "code",
   "execution_count": null,
   "id": "b1649f48",
   "metadata": {},
   "outputs": [],
   "source": [
    "def saving_data():\n",
    "    run=0\n",
    "        \n",
    "    df['References']=References\n",
    "    df['Dates']=Dates\n",
    "    \n",
    "    if exists(f'{main_dir}//ListScraped_{run}.csv')==False:\n",
    "        df.to_csv(f'{main_dir}//ListScraped_{run}.csv')\n",
    "    else:\n",
    "        ListOfScraps=[]\n",
    "        for file in os.listdir(main_dir):\n",
    "            if file.endswith('.csv'):\n",
    "                ListOfScraps.append(int(file.split('.csv')[0][-1]))\n",
    "                run=max(ListOfScraps)+1\n",
    "                df.to_csv(f'{main_dir}//ListScraped_{run}.csv')\n"
   ]
  },
  {
   "cell_type": "code",
   "execution_count": null,
   "id": "9d43b622",
   "metadata": {},
   "outputs": [],
   "source": [
    "df= pd.DataFrame()\n",
    "References=[]\n",
    "Dates=[]\n",
    "\n",
    "nr_page=0\n",
    "\n",
    "pbar = tqdm(total=total_of_pages_to_search)\n",
    "while nr_page/10<total_of_pages_to_search:\n",
    "    URL=f\"https://scholar.google.com/scholar?start={nr_page}&q=Brain+Computer+Interface&hl=en&as_sdt=8,5\"\n",
    "    print(URL)\n",
    "    page = requests.get(URL)\n",
    "    soup = BeautifulSoup(page.content, \"html.parser\")\n",
    "\n",
    "    for link in soup.find_all('h3'):              \n",
    "        for i in link.find_all('a'):\n",
    "            print(i.text)\n",
    "            References.append(i.text)\n",
    "            Dates.append(link.parent.find('div').text)\n",
    "        \n",
    "\n",
    "    nr_page=nr_page+10\n",
    "\n",
    "    pbar.update(1)\n",
    "pbar.close()     \n",
    "saving_data()\n",
    "  "
   ]
  },
  {
   "cell_type": "code",
   "execution_count": null,
   "id": "12d32178",
   "metadata": {},
   "outputs": [],
   "source": [
    "#optional for visualization\n",
    "#display(HTML(df.to_html()))"
   ]
  },
  {
   "cell_type": "code",
   "execution_count": null,
   "id": "38ca9b4f",
   "metadata": {},
   "outputs": [],
   "source": []
  },
  {
   "cell_type": "code",
   "execution_count": null,
   "id": "b5b67cc1",
   "metadata": {},
   "outputs": [],
   "source": []
  }
 ],
 "metadata": {
  "kernelspec": {
   "display_name": "Python 3 (ipykernel)",
   "language": "python",
   "name": "python3"
  },
  "language_info": {
   "codemirror_mode": {
    "name": "ipython",
    "version": 3
   },
   "file_extension": ".py",
   "mimetype": "text/x-python",
   "name": "python",
   "nbconvert_exporter": "python",
   "pygments_lexer": "ipython3",
   "version": "3.8.10"
  }
 },
 "nbformat": 4,
 "nbformat_minor": 5
}
